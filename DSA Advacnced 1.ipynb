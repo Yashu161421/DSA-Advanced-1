{
 "cells": [
  {
   "cell_type": "markdown",
   "id": "c0c697dc",
   "metadata": {},
   "source": [
    "#QUESTION 1"
   ]
  },
  {
   "cell_type": "code",
   "execution_count": 8,
   "id": "c04ab143",
   "metadata": {},
   "outputs": [
    {
     "name": "stdout",
     "output_type": "stream",
     "text": [
      "Original Linked List:\n",
      "1 -> 2 -> -3 -> 3 -> 1 -> None\n",
      "Linked List after Deleting Zero Sum Sublists:\n",
      "3 -> 1 -> None\n"
     ]
    }
   ],
   "source": [
    "class Node:\n",
    "    def __init__(self, data):\n",
    "        self.data = data\n",
    "        self.next = None\n",
    "\n",
    "def deleteZeroSumSublists(head):\n",
    "    dummy = Node(0)\n",
    "    dummy.next = head\n",
    "    cumulative_sum = 0\n",
    "    sum_dict = {}\n",
    "    \n",
    "    current = dummy\n",
    "    \n",
    "    while current:\n",
    "        cumulative_sum += current.data\n",
    "        \n",
    "        # Store the cumulative sum in the dictionary\n",
    "        if cumulative_sum in sum_dict:\n",
    "            to_remove = sum_dict[cumulative_sum].next\n",
    "            cumulative = cumulative_sum + to_remove.data\n",
    "            while cumulative != cumulative_sum:\n",
    "                del sum_dict[cumulative]\n",
    "                to_remove = to_remove.next\n",
    "                cumulative += to_remove.data\n",
    "            sum_dict[cumulative_sum].next = to_remove.next\n",
    "        else:\n",
    "            sum_dict[cumulative_sum] = current\n",
    "        \n",
    "        current = current.next\n",
    "    \n",
    "    return dummy.next\n",
    "\n",
    "\n",
    "def printLinkedList(head):\n",
    "    current = head\n",
    "    while current:\n",
    "        print(current.data, end=\" -> \")\n",
    "        current = current.next\n",
    "    print(\"None\")\n",
    "\n",
    "# Example:\n",
    "if __name__ == \"__main__\":\n",
    "    head = Node(1)\n",
    "    head.next = Node(2)\n",
    "    head.next.next = Node(-3)\n",
    "    head.next.next.next = Node(3)\n",
    "    head.next.next.next.next = Node(1)\n",
    "\n",
    "    print(\"Original Linked List:\")\n",
    "    printLinkedList(head)\n",
    "\n",
    "    new_head = deleteZeroSumSublists(head)\n",
    "\n",
    "    print(\"Linked List after Deleting Zero Sum Sublists:\")\n",
    "    printLinkedList(new_head)\n"
   ]
  },
  {
   "cell_type": "markdown",
   "id": "bde57100",
   "metadata": {},
   "source": [
    "#QUESTION 2"
   ]
  },
  {
   "cell_type": "code",
   "execution_count": 9,
   "id": "fc071bc9",
   "metadata": {},
   "outputs": [
    {
     "name": "stdout",
     "output_type": "stream",
     "text": [
      "Original Linked List:\n",
      "1 -> 2 -> 3 -> 4 -> 5 -> 6 -> 7 -> 8 -> None\n",
      "Linked List after Reversing in Groups of 4:\n",
      "4 -> 8 -> 7 -> 6 -> 5 -> None\n"
     ]
    }
   ],
   "source": [
    "class ListNode:\n",
    "    def __init__(self, value):\n",
    "        self.value = value\n",
    "        self.next = None\n",
    "\n",
    "def reverse_in_groups(head, k):\n",
    "    if not head or k <= 1:\n",
    "        return head\n",
    "    \n",
    "    def reverse_list(node):\n",
    "        prev = None\n",
    "        current = node\n",
    "        while current:\n",
    "            next_node = current.next\n",
    "            current.next = prev\n",
    "            prev = current\n",
    "            current = next_node\n",
    "        return prev\n",
    "    \n",
    "    # Initialize pointers\n",
    "    prev_tail = None\n",
    "    new_head = None\n",
    "    current = head\n",
    "    prev_group_tail = None\n",
    "    \n",
    "    while current:\n",
    "        group_start = current\n",
    "        group_end = current\n",
    "        \n",
    "       \n",
    "        for _ in range(k - 1):\n",
    "            if group_end.next:\n",
    "                group_end = group_end.next\n",
    "            else:\n",
    "                break\n",
    "        \n",
    "        next_group_head = group_end.next\n",
    "        group_end.next = None\n",
    "        \n",
    "        # Reverse the current group\n",
    "        if not new_head:\n",
    "            new_head = reverse_list(group_start)\n",
    "        else:\n",
    "            prev_group_tail.next = reverse_list(group_start)\n",
    "        \n",
    "        group_start.next = next_group_head\n",
    "        \n",
    "        if prev_tail:\n",
    "            prev_tail.next = group_end\n",
    "        prev_group_tail = group_start\n",
    "        prev_tail = group_end\n",
    "        \n",
    "        current = next_group_head\n",
    "    \n",
    "    return new_head\n",
    "\n",
    "def print_linked_list(head):\n",
    "    current = head\n",
    "    while current:\n",
    "        print(current.value, end=\" -> \")\n",
    "        current = current.next\n",
    "    print(\"None\")\n",
    "\n",
    "# Example:\n",
    "if __name__ == \"__main__\":\n",
    "    # Create a linked list: 1 -> 2 -> 3 -> 4 -> 5 -> 6 -> 7 -> 8\n",
    "    head = ListNode(1)\n",
    "    current = head\n",
    "    for i in range(2, 9):\n",
    "        current.next = ListNode(i)\n",
    "        current = current.next\n",
    "\n",
    "    print(\"Original Linked List:\")\n",
    "    print_linked_list(head)\n",
    "\n",
    "    k = 4\n",
    "    new_head = reverse_in_groups(head, k)\n",
    "\n",
    "    print(f\"Linked List after Reversing in Groups of {k}:\")\n",
    "    print_linked_list(new_head)\n"
   ]
  },
  {
   "cell_type": "markdown",
   "id": "99253f17",
   "metadata": {},
   "source": [
    "#QUESTION 3"
   ]
  },
  {
   "cell_type": "code",
   "execution_count": 10,
   "id": "8489d9ee",
   "metadata": {},
   "outputs": [
    {
     "name": "stdout",
     "output_type": "stream",
     "text": [
      "First Linked List:\n",
      "1 --> 2 --> 3 --> None\n",
      "Second Linked List:\n",
      "A --> B --> C --> D --> None\n",
      "Linked List after Merging alternate position:\n",
      "1 --> A --> 2 --> B --> 3 --> C --> None\n"
     ]
    }
   ],
   "source": [
    "class ListNode:\n",
    "    def __init__(self, value):\n",
    "        self.value = value\n",
    "        self.next = None\n",
    "\n",
    "def merge_alternate(head1, head2):\n",
    "    if not head1:\n",
    "        return head2\n",
    "    if not head2:\n",
    "        return head1\n",
    "\n",
    "    current1 = head1\n",
    "    current2 = head2\n",
    "\n",
    "    while current1 and current2:\n",
    "        next1 = current1.next\n",
    "        next2 = current2.next\n",
    "\n",
    "        current1.next = current2\n",
    "        current2.next = next1\n",
    "\n",
    "        current1 = next1\n",
    "        current2 = next2\n",
    "\n",
    "    return head1\n",
    "\n",
    "def print_linked_list(head):\n",
    "    current = head\n",
    "    while current:\n",
    "        print(current.value, end=\" --> \")\n",
    "        current = current.next\n",
    "    print(\"None\")\n",
    "\n",
    "# Example:\n",
    "if __name__ == \"__main__\":\n",
    "    #create ll 1\n",
    "    head1 = ListNode(1)\n",
    "    head1.next = ListNode(2)\n",
    "    head1.next.next = ListNode(3)\n",
    "\n",
    "   #create second ll \n",
    "    head2 = ListNode(\"A\")\n",
    "    head2.next = ListNode(\"B\")\n",
    "    head2.next.next = ListNode(\"C\")\n",
    "    head2.next.next.next = ListNode(\"D\")\n",
    "\n",
    "    print(\"First Linked List:\")\n",
    "    print_linked_list(head1)\n",
    "\n",
    "    print(\"Second Linked List:\")\n",
    "    print_linked_list(head2)\n",
    "\n",
    "    merged_head = merge_alternate(head1, head2)\n",
    "\n",
    "    print(\"Linked List after Merging alternate position:\")\n",
    "    print_linked_list(merged_head)\n"
   ]
  },
  {
   "cell_type": "markdown",
   "id": "2806b3b8",
   "metadata": {},
   "source": [
    "#QUESTION 4"
   ]
  },
  {
   "cell_type": "code",
   "execution_count": 13,
   "id": "1597567e",
   "metadata": {},
   "outputs": [
    {
     "name": "stdout",
     "output_type": "stream",
     "text": [
      "Number of pairs with sum 7: 3\n"
     ]
    }
   ],
   "source": [
    "def count_pairs_with_sum(arr, target_sum):\n",
    "    num_count = {}\n",
    "    count = 0\n",
    "\n",
    "    for num in arr:\n",
    "        complement = target_sum - num\n",
    "\n",
    "        if complement in num_count:\n",
    "            count += num_count[complement]\n",
    "\n",
    "        if num in num_count:\n",
    "            num_count[num] += 1\n",
    "        else:\n",
    "            num_count[num] = 1\n",
    "\n",
    "    return count\n",
    "\n",
    "# Example:\n",
    "if __name__ == \"__main__\":\n",
    "    arr = [1, 2, 3, 4, 5, 6]\n",
    "    target_sum = 7\n",
    "\n",
    "    pairs_count = count_pairs_with_sum(arr, target_sum)\n",
    "    print(f\"Number of pairs with sum {target_sum}: {pairs_count}\")\n"
   ]
  },
  {
   "cell_type": "markdown",
   "id": "9cd6e7a6",
   "metadata": {},
   "source": [
    "#QUESTION 5"
   ]
  },
  {
   "cell_type": "code",
   "execution_count": 14,
   "id": "a65ac228",
   "metadata": {},
   "outputs": [
    {
     "name": "stdout",
     "output_type": "stream",
     "text": [
      "Duplicates in the array: [4, 9]\n"
     ]
    }
   ],
   "source": [
    "def find_duplicates(arr):\n",
    "    arr.sort()\n",
    "    duplicates = []\n",
    "\n",
    "    for i in range(1, len(arr)):\n",
    "        if arr[i] == arr[i - 1]:\n",
    "            duplicates.append(arr[i])\n",
    "\n",
    "    return duplicates\n",
    "\n",
    "# Example:\n",
    "if __name__ == \"__main__\":\n",
    "    arr = [1, 4, 2, 8 , 7, 3, 4, 9, 0, 9]\n",
    "    duplicates = find_duplicates(arr)\n",
    "    print(\"Duplicates in the array:\", duplicates)\n"
   ]
  },
  {
   "cell_type": "markdown",
   "id": "50da0aff",
   "metadata": {},
   "source": [
    "#QUESTION 6"
   ]
  },
  {
   "cell_type": "code",
   "execution_count": 15,
   "id": "b0f1318a",
   "metadata": {},
   "outputs": [
    {
     "name": "stdout",
     "output_type": "stream",
     "text": [
      "3th Largest Number (Sorting): 5\n",
      "3th Largest Number (Max Heap): 5\n"
     ]
    }
   ],
   "source": [
    "import heapq \n",
    "\n",
    "def kth_largest(arr, k):\n",
    "    sorted_arr = sorted(arr, reverse=True)\n",
    "    kth_largest_sorting = sorted_arr[k - 1]\n",
    "\n",
    "    max_heap = [-num for num in arr]  \n",
    "    heapq.heapify(max_heap)\n",
    "    kth_largest_heap = None\n",
    "    for _ in range(k):\n",
    "        kth_largest_heap = -heapq.heappop(max_heap)\n",
    "\n",
    "    return kth_largest_sorting, kth_largest_heap\n",
    "\n",
    "# Example:\n",
    "if __name__ == \"__main__\":\n",
    "    arr = [3, 1, 4, 1, 5, 9, 2, 6, 5, 3, 5]\n",
    "    k = 3\n",
    "\n",
    "    kth_largest_sorting, kth_largest_heap = kth_largest(arr, k)\n",
    "\n",
    "    print(f\"{k}th Largest Number (Sorting): {kth_largest_sorting}\")\n",
    "    print(f\"{k}th Largest Number (Max Heap): {kth_largest_heap}\")\n"
   ]
  },
  {
   "cell_type": "markdown",
   "id": "d6aac89b",
   "metadata": {},
   "source": [
    "#QUESTION 7"
   ]
  },
  {
   "cell_type": "code",
   "execution_count": 16,
   "id": "115702f5",
   "metadata": {},
   "outputs": [
    {
     "name": "stdout",
     "output_type": "stream",
     "text": [
      "Original Array: [-16, 21, -36, 14, 53, -6, 7, -8]\n",
      "Array After Moving Negatives to One Side: [-16, -8, -36, -6, 53, 14, 7, 21]\n"
     ]
    }
   ],
   "source": [
    "def move_negatives_to_one_side(arr):\n",
    "    left = 0\n",
    "    right = len(arr) - 1\n",
    "\n",
    "    while left <= right:\n",
    "        if arr[left] < 0 and arr[right] < 0:\n",
    "            left += 1\n",
    "        elif arr[left] >= 0 and arr[right] < 0:\n",
    "            arr[left], arr[right] = arr[right], arr[left]\n",
    "            left += 1\n",
    "            right -= 1\n",
    "        elif arr[left] >= 0 and arr[right] >= 0:\n",
    "            right -= 1\n",
    "        else:\n",
    "            left += 1\n",
    "            right -= 1\n",
    "\n",
    "# Example:\n",
    "if __name__ == \"__main__\":\n",
    "    arr = [-16, 21, -36, 14, 53, -6, 7, -8]\n",
    "    print(\"Original Array:\", arr)\n",
    "    \n",
    "    move_negatives_to_one_side(arr)\n",
    "    \n",
    "    print(\"Array After Moving Negatives to One Side:\", arr)\n"
   ]
  },
  {
   "cell_type": "markdown",
   "id": "8664fd04",
   "metadata": {},
   "source": [
    "#QUESTION 8"
   ]
  },
  {
   "cell_type": "code",
   "execution_count": 17,
   "id": "08dbefff",
   "metadata": {},
   "outputs": [
    {
     "name": "stdout",
     "output_type": "stream",
     "text": [
      "Original String: Python is fun!\n",
      "Reversed String: !nuf si nohtyP\n"
     ]
    }
   ],
   "source": [
    "class Stack:\n",
    "    def __init__(self):\n",
    "        self.items = []\n",
    "\n",
    "    def is_empty(self):\n",
    "        return len(self.items) == 0\n",
    "\n",
    "    def push(self, item):\n",
    "        self.items.append(item)\n",
    "\n",
    "    def pop(self):\n",
    "        if not self.is_empty():\n",
    "            return self.items.pop()\n",
    "        else:\n",
    "            return None\n",
    "\n",
    "def reverse_string(input_string):\n",
    "    stack = Stack()\n",
    "    reversed_string = \"\"\n",
    "\n",
    "    for char in input_string:\n",
    "        stack.push(char)\n",
    "\n",
    "    while not stack.is_empty():\n",
    "        reversed_string += stack.pop()\n",
    "\n",
    "    return reversed_string\n",
    "\n",
    "# Example :\n",
    "if __name__ == \"__main__\":\n",
    "    input_string = \"Python is fun!\"\n",
    "    reversed_str = reverse_string(input_string)\n",
    "    print(\"Original String:\", input_string)\n",
    "    print(\"Reversed String:\", reversed_str)\n"
   ]
  },
  {
   "cell_type": "markdown",
   "id": "381444d6",
   "metadata": {},
   "source": [
    "#QUESTION 9"
   ]
  },
  {
   "cell_type": "code",
   "execution_count": 18,
   "id": "d3d14d6e",
   "metadata": {},
   "outputs": [
    {
     "name": "stdout",
     "output_type": "stream",
     "text": [
      "Postfix Expression: 42*5+\n",
      "Result: 13\n"
     ]
    }
   ],
   "source": [
    "class Stack:\n",
    "    def __init__(self):\n",
    "        self.items = []\n",
    "\n",
    "    def is_empty(self):\n",
    "        return len(self.items) == 0\n",
    "\n",
    "    def push(self, item):\n",
    "        self.items.append(item)\n",
    "\n",
    "    def pop(self):\n",
    "        if not self.is_empty():\n",
    "            return self.items.pop()\n",
    "        else:\n",
    "            return None\n",
    "\n",
    "def evaluate_postfix(expression):\n",
    "    stack = Stack()\n",
    "    operators = set(['+', '-', '*', '/'])\n",
    "\n",
    "    for char in expression:\n",
    "        if char not in operators:\n",
    "            stack.push(int(char))\n",
    "        else:\n",
    "            operand2 = stack.pop()\n",
    "            operand1 = stack.pop()\n",
    "            if operand1 is None or operand2 is None:\n",
    "                raise ValueError(\"Invalid postfix expression\")\n",
    "            if char == '+':\n",
    "                result = operand1 + operand2\n",
    "            elif char == '-':\n",
    "                result = operand1 - operand2\n",
    "            elif char == '*':\n",
    "                result = operand1 * operand2\n",
    "            elif char == '/':\n",
    "                if operand2 == 0:\n",
    "                    raise ValueError(\"Division by zero\")\n",
    "                result = operand1 / operand2\n",
    "            stack.push(result)\n",
    "\n",
    "    \n",
    "    if len(stack.items) == 1:\n",
    "        return stack.pop()\n",
    "    else:\n",
    "        raise ValueError(\"Invalid postfix expression\")\n",
    "\n",
    "# Example:\n",
    "if __name__ == \"__main__\":\n",
    "    postfix_expression = \"42*5+\"\n",
    "    result = evaluate_postfix(postfix_expression)\n",
    "    print(\"Postfix Expression:\", postfix_expression)\n",
    "    print(\"Result:\", result)\n"
   ]
  },
  {
   "cell_type": "code",
   "execution_count": null,
   "id": "5ecd4677",
   "metadata": {},
   "outputs": [],
   "source": []
  }
 ],
 "metadata": {
  "kernelspec": {
   "display_name": "Python 3 (ipykernel)",
   "language": "python",
   "name": "python3"
  },
  "language_info": {
   "codemirror_mode": {
    "name": "ipython",
    "version": 3
   },
   "file_extension": ".py",
   "mimetype": "text/x-python",
   "name": "python",
   "nbconvert_exporter": "python",
   "pygments_lexer": "ipython3",
   "version": "3.11.3"
  }
 },
 "nbformat": 4,
 "nbformat_minor": 5
}
